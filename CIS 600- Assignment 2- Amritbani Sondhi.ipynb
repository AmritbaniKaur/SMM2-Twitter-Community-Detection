{
 "cells": [
  {
   "cell_type": "markdown",
   "metadata": {},
   "source": [
    "## CIS 600, Spring 2018\n",
    "## Assignment 2: Community Detection & Twitter\n",
    "### Due: Friday, March 09\n",
    "### Amritbani Sondhi, email: amritbani.sondhi@gmail.com"
   ]
  },
  {
   "cell_type": "markdown",
   "metadata": {},
   "source": [
    "--------------------------------------------------------------------------------------------------------------------------------"
   ]
  },
  {
   "cell_type": "markdown",
   "metadata": {},
   "source": [
    "### • Choose a popular Twitter account (≥ 10, 000 followers)\n",
    "#### Solution:"
   ]
  },
  {
   "cell_type": "markdown",
   "metadata": {},
   "source": [
    "Importing Libraries:"
   ]
  },
  {
   "cell_type": "code",
   "execution_count": 1,
   "metadata": {},
   "outputs": [],
   "source": [
    "import json\n",
    "import pandas as pd\n",
    "from twitter import *\n",
    "\n",
    "import sys\n",
    "import time\n",
    "from twitter.api import TwitterHTTPError\n",
    "from urllib.error import URLError\n",
    "from http.client import BadStatusLine\n",
    "\n",
    "# This will let us create new partial functions with arguments set to certain values.\n",
    "from functools import partial\n",
    "# This was maxint. There is no longer a maxint (in Python 3)\n",
    "from sys import maxsize"
   ]
  },
  {
   "cell_type": "markdown",
   "metadata": {},
   "source": [
    "Authenticating User:"
   ]
  },
  {
   "cell_type": "code",
   "execution_count": 2,
   "metadata": {},
   "outputs": [],
   "source": [
    "# Loading my authentication tokens\n",
    "with open('auth_dict','r') as f:\n",
    "    twtr_auth = json.load(f)\n",
    "\n",
    "# To make it more readable, lets store\n",
    "# the OAuth credentials in strings first.\n",
    "CONSUMER_KEY = twtr_auth['consumer_key']\n",
    "CONSUMER_SECRET = twtr_auth['consumer_secret']\n",
    "OAUTH_TOKEN = twtr_auth['token']\n",
    "OAUTH_TOKEN_SECRET = twtr_auth['token_secret']\n",
    "    \n",
    "# Then, we store the OAuth object in \"auth\"\n",
    "auth = OAuth(OAUTH_TOKEN, OAUTH_TOKEN_SECRET,\n",
    "                           CONSUMER_KEY, CONSUMER_SECRET)\n",
    "# Notice that there are four tokens - you need to create these in the\n",
    "# Twitter Apps dashboard after you have created your own \"app\".\n",
    "\n",
    "# We now create the twitter search object.\n",
    "t = Twitter(auth=auth)"
   ]
  },
  {
   "cell_type": "markdown",
   "metadata": {},
   "source": [
    "Select a user to start with:"
   ]
  },
  {
   "cell_type": "code",
   "execution_count": 3,
   "metadata": {},
   "outputs": [],
   "source": [
    "popular_user =  'TheRealStanLee' # 'jimmyfallon' #'RobertDowneyJr' #'Michiel_Huisman'"
   ]
  },
  {
   "cell_type": "markdown",
   "metadata": {},
   "source": [
    "--------------------------------------------------------------------------------------------------------------------------------"
   ]
  },
  {
   "cell_type": "markdown",
   "metadata": {},
   "source": [
    "### • Build the friendship graph for that account’s followers\n",
    "#### Solution:"
   ]
  },
  {
   "cell_type": "code",
   "execution_count": 4,
   "metadata": {},
   "outputs": [],
   "source": [
    "def make_twitter_request(twitter_api_func, max_errors=10, *args, **kw):\n",
    "    # A nested helper function that handles common HTTPErrors. Return an updated\n",
    "    # value for wait_period if the problem is a 500 level error. Block until the\n",
    "    # rate limit is reset if it's a rate limitingt issue (429 error). Returns None\n",
    "    # for 401 and 404 errors, which requires special handling by the caller.\n",
    "    def handle_twitter_http_error(e, wait_period=2, sleep_when_rate_limited=True):\n",
    "        \n",
    "        if wait_period > 3600: # Seconds\n",
    "            print('Too many retries. Quitting.', file=sys.stderr)\n",
    "            raise e\n",
    "        \n",
    "        # See https://dev.twitter.com/docs/error-codes-responses for common codes\n",
    "        \n",
    "        if e.e.code == 401:\n",
    "            print('Encountered 401 Error (Not Authorized)', file=sys.stderr)\n",
    "            return None\n",
    "        elif e.e.code == 404:\n",
    "            print('Encountered 404 Error (Not Found)', file=sys.stderr)\n",
    "            return None\n",
    "        elif e.e.code == 429:\n",
    "            print('Encountered 429 Error (Rate Limit Exceeded)', file=sys.stderr)\n",
    "            if sleep_when_rate_limited:\n",
    "                print(\"Retrying in 15 minutes...ZzZ...\", file=sys.stderr)\n",
    "                sys.stderr.flush()\n",
    "                time.sleep(60*15 + 5)\n",
    "                print('...ZzZ...Awake now and trying again.', file=sys.stderr)\n",
    "                return 2\n",
    "            else:\n",
    "                raise e # Caller must handle the rate limiting issue\n",
    "        elif e.e.code in (500, 502, 503, 504):\n",
    "            print('Encountered %i Error. Retrying in %i seconds' % (e.e.code, wait_period), file=sys.stderr)\n",
    "            time.sleep(wait_period)\n",
    "            wait_period *= 1.5\n",
    "            return wait_period\n",
    "        else:\n",
    "            raise e\n",
    "    # End of nested helper function\n",
    "\n",
    "    wait_period = 2\n",
    "    error_count = 0\n",
    "    while True:\n",
    "        try:\n",
    "            return twitter_api_func(*args, **kw)\n",
    "        except TwitterHTTPError as e:\n",
    "            error_count = 0\n",
    "            wait_period = handle_twitter_http_error(e, wait_period)\n",
    "            if wait_period is None:\n",
    "                return\n",
    "        except URLError as e:\n",
    "            error_count += 1\n",
    "            print(\"URLError encountered. Continuing.\", file=sys.stderr)\n",
    "            if error_count > max_errors:\n",
    "                print(\"Too many consecutive errors...bailing out.\", file=sys.stderr)\n",
    "                raise\n",
    "        except BadStatusLine as e:\n",
    "            error_count += 1\n",
    "            print >> sys.stderr, \"BadStatusLine encountered. Continuing.\"\n",
    "            if error_count > max_errors:\n",
    "                print(\"Too many consecutive errors...bailing out.\", file=sys.stderr)\n",
    "                raise"
   ]
  },
  {
   "cell_type": "code",
   "execution_count": 5,
   "metadata": {},
   "outputs": [],
   "source": [
    "def get_friends_followers_ids(twitter_api, screen_name=None, user_id=None,\n",
    "                                friends_limit=maxsize, followers_limit=maxsize):\n",
    "    \n",
    "    # Must have either screen_name or user_id (logical xor)\n",
    "    assert (screen_name != None) != (user_id != None), \\\n",
    "    \"Must have screen_name or user_id, but not both\"\n",
    "    \n",
    "    # See https://dev.twitter.com/docs/api/1.1/get/friends/ids and\n",
    "    # https://dev.twitter.com/docs/api/1.1/get/followers/ids for details on API parameters\n",
    "    \n",
    "    # You can also do this with a function closure.\n",
    "    get_friends_ids = partial(make_twitter_request, twitter_api.friends.ids,\n",
    "                                count=5000)\n",
    "    get_followers_ids = partial(make_twitter_request, twitter_api.followers.ids,\n",
    "                                count=5000)\n",
    "    \n",
    "    friends_ids, followers_ids = [], []\n",
    "    \n",
    "    for twitter_api_func, limit, ids, label in [\n",
    "            [get_friends_ids, friends_limit, friends_ids, \"friends\"],\n",
    "            [get_followers_ids, followers_limit, followers_ids, \"followers\"]\n",
    "            ]:\n",
    "        \n",
    "        #LOOK HERE! This little line is important.\n",
    "        if limit == 0: continue\n",
    "        \n",
    "        cursor = -1\n",
    "        while cursor != 0: #and cursor != '\"':\n",
    "            \n",
    "            # Use make_twitter_request via the partially bound callable...\n",
    "            if screen_name:\n",
    "                response = twitter_api_func(screen_name=screen_name, cursor=cursor)\n",
    "            else: # user_id\n",
    "                response = twitter_api_func(user_id=user_id, cursor=cursor)\n",
    "                \n",
    "            if response is not None:\n",
    "                ids += response['ids']\n",
    "                cursor = response['next_cursor']\n",
    "                \n",
    "            print('Fetched {0} total {1} ids for {2}'.format(len(ids), label, (user_id or screen_name), file=sys.stderr))\n",
    "            \n",
    "            if len(ids) >= limit or response is None:\n",
    "                break\n",
    "                \n",
    "    # Do something useful with the IDs, like store them to disk...\n",
    "    return friends_ids[:friends_limit], followers_ids[:followers_limit]"
   ]
  },
  {
   "cell_type": "code",
   "execution_count": 6,
   "metadata": {},
   "outputs": [],
   "source": [
    "def crawl_followers(twitter_api, screen_name, limit=1000000, depth=2):\n",
    "    \n",
    "    # Resolve the ID for screen_name and start working with IDs for consistency\n",
    "    seed_id = str(twitter_api.users.show(screen_name=screen_name)['id'])\n",
    "    \n",
    "    friend_queue, next_queue = get_friends_followers_ids(twitter_api, user_id=seed_id,\n",
    "                        friends_limit=limit, followers_limit=limit)\n",
    "    \n",
    "    # Store followers in an object\n",
    "    user_followers = dict()\n",
    "    follower_list = [str(x) for x in next_queue]\n",
    "    \n",
    "    for line1 in follower_list:\n",
    "        # here define what key is, for example,\n",
    "        key = seed_id\n",
    "        user_followers.setdefault(key,[]).append(line1)\n",
    "    \n",
    "    # Store friends in an object\n",
    "    user_friends = dict()\n",
    "    friend_list = [str(x) for x in friend_queue]\n",
    "    \n",
    "    for line2 in friend_list:\n",
    "        # here define what key is, for example,\n",
    "        key = seed_id\n",
    "    \n",
    "        #user_followers[key].append(line)\n",
    "        user_friends.setdefault(key,[]).append(line2)\n",
    "    \n",
    "    d = 1\n",
    "    while d < depth:\n",
    "        \n",
    "        d += 1\n",
    "        \n",
    "        # Reset the next_queue so that we can start building up the next level of followers-of-followers\n",
    "        (queue, next_queue) = (next_queue, [])\n",
    "        \n",
    "        # Loop through the current level of followers\n",
    "        for fid in queue:\n",
    "            friendid_queue, follower_ids = get_friends_followers_ids(twitter_api, user_id=fid, friends_limit=limit, followers_limit=limit)\n",
    "\n",
    "            # Store followers in an object\n",
    "            follower_ids_list = [str(x) for x in follower_ids]\n",
    "\n",
    "            for line3 in follower_ids_list:\n",
    "                # here define what key is, for example,\n",
    "                key = fid\n",
    "                #user_followers[key].append(line)\n",
    "                user_followers.setdefault(key,[]).append(line3)\n",
    "\n",
    "            # Store friends in an object\n",
    "            friendsid_list = [str(x) for x in friendid_queue]\n",
    "    \n",
    "            for line4 in friendsid_list:\n",
    "                # here define what key is, for example,\n",
    "                key = fid\n",
    "                user_friends.setdefault(key,[]).append(line4)\n",
    "        \n",
    "            # Extending the list\n",
    "            next_queue += follower_ids\n",
    "            friend_queue += friendid_queue\n",
    "            \n",
    "    return user_friends, user_followers # Dicts"
   ]
  },
  {
   "cell_type": "markdown",
   "metadata": {},
   "source": [
    "- __Retrieve IDs of that user's friends and followers. These are two lists. You may set the max results, as we have here, to 5000.__"
   ]
  },
  {
   "cell_type": "code",
   "execution_count": 7,
   "metadata": {
    "scrolled": true
   },
   "outputs": [
    {
     "name": "stdout",
     "output_type": "stream",
     "text": [
      "Fetched 923 total friends ids for 65289126\n",
      "Fetched 5000 total followers ids for 65289126\n",
      "Fetched 59 total friends ids for 518660434\n",
      "Fetched 20 total followers ids for 518660434\n",
      "Fetched 0 total friends ids for 2492399557\n"
     ]
    },
    {
     "name": "stderr",
     "output_type": "stream",
     "text": [
      "Encountered 401 Error (Not Authorized)\n",
      "Encountered 401 Error (Not Authorized)\n"
     ]
    },
    {
     "name": "stdout",
     "output_type": "stream",
     "text": [
      "Fetched 0 total followers ids for 2492399557\n",
      "Fetched 138 total friends ids for 970250077473267712\n",
      "Fetched 0 total followers ids for 970250077473267712\n",
      "Fetched 757 total friends ids for 1182868338\n",
      "Fetched 264 total followers ids for 1182868338\n",
      "Fetched 408 total friends ids for 337282307\n",
      "Fetched 131 total followers ids for 337282307\n",
      "Fetched 4625 total friends ids for 3636794834\n",
      "Fetched 4743 total followers ids for 3636794834\n",
      "Fetched 3068 total friends ids for 858445451648827392\n",
      "Fetched 431 total followers ids for 858445451648827392\n",
      "Fetched 50 total friends ids for 975606397541941248\n",
      "Fetched 5 total followers ids for 975606397541941248\n",
      "Fetched 572 total friends ids for 859359220960854018\n",
      "Fetched 173 total followers ids for 859359220960854018\n",
      "Fetched 1097 total friends ids for 856026885750349824\n",
      "Fetched 265 total followers ids for 856026885750349824\n",
      "Fetched 104 total friends ids for 710223897551982592\n",
      "Fetched 123 total followers ids for 710223897551982592\n",
      "Fetched 2833 total friends ids for 965517992720195584\n",
      "Fetched 105 total followers ids for 965517992720195584\n"
     ]
    },
    {
     "name": "stderr",
     "output_type": "stream",
     "text": [
      "Encountered 401 Error (Not Authorized)\n",
      "Encountered 401 Error (Not Authorized)\n"
     ]
    },
    {
     "name": "stdout",
     "output_type": "stream",
     "text": [
      "Fetched 0 total friends ids for 902498377950044160\n",
      "Fetched 0 total followers ids for 902498377950044160\n",
      "Fetched 1231 total friends ids for 633768738\n",
      "Fetched 825 total followers ids for 633768738\n"
     ]
    },
    {
     "name": "stderr",
     "output_type": "stream",
     "text": [
      "Encountered 429 Error (Rate Limit Exceeded)\n",
      "Retrying in 15 minutes...ZzZ...\n",
      "...ZzZ...Awake now and trying again.\n"
     ]
    },
    {
     "name": "stdout",
     "output_type": "stream",
     "text": [
      "Fetched 543 total friends ids for 397621733\n",
      "Fetched 1458 total followers ids for 397621733\n",
      "Fetched 279 total friends ids for 2216461686\n",
      "Fetched 129 total followers ids for 2216461686\n",
      "Fetched 892 total friends ids for 931380687428448256\n",
      "Fetched 92 total followers ids for 931380687428448256\n",
      "Fetched 5000 total friends ids for 926461467913748480\n",
      "Fetched 1742 total followers ids for 926461467913748480\n",
      "Fetched 144 total friends ids for 847266282651004929\n",
      "Fetched 11 total followers ids for 847266282651004929\n",
      "Fetched 18 total friends ids for 378984697\n",
      "Fetched 2 total followers ids for 378984697\n"
     ]
    }
   ],
   "source": [
    "screen_name = popular_user\n",
    "user_friends, user_followers = crawl_followers(t, screen_name, depth=3, limit=5)"
   ]
  },
  {
   "cell_type": "markdown",
   "metadata": {},
   "source": [
    "Pretty Printing the Dictionary Data"
   ]
  },
  {
   "cell_type": "code",
   "execution_count": 8,
   "metadata": {
    "scrolled": true
   },
   "outputs": [
    {
     "name": "stdout",
     "output_type": "stream",
     "text": [
      "Followers Dict: \n",
      "{   337282307: [   '2216461686',\n",
      "                   '931380687428448256',\n",
      "                   '926461467913748480',\n",
      "                   '847266282651004929',\n",
      "                   '378984697'],\n",
      "    378984697: ['18733333', '858890875'],\n",
      "    397621733: [   '970727708505227264',\n",
      "                   '924835007822118913',\n",
      "                   '3004373479',\n",
      "                   '912204328865169409',\n",
      "                   '960012465806262274'],\n",
      "    518660434: [   '3636794834',\n",
      "                   '858445451648827392',\n",
      "                   '975606397541941248',\n",
      "                   '859359220960854018',\n",
      "                   '856026885750349824'],\n",
      "    633768738: [   '938803471007956992',\n",
      "                   '936906349778046976',\n",
      "                   '476883985',\n",
      "                   '932767562504400896',\n",
      "                   '798181144097267712'],\n",
      "    1182868338: [   '710223897551982592',\n",
      "                    '965517992720195584',\n",
      "                    '902498377950044160',\n",
      "                    '633768738',\n",
      "                    '397621733'],\n",
      "    2216461686: [   '476099460',\n",
      "                    '824778386497232896',\n",
      "                    '928451444633563136',\n",
      "                    '27541523',\n",
      "                    '4720384904'],\n",
      "    3636794834: [   '927661413044183041',\n",
      "                    '863802393863086082',\n",
      "                    '4350930993',\n",
      "                    '745037718279823360',\n",
      "                    '240837333'],\n",
      "    710223897551982592: [   '1182868338',\n",
      "                            '890838934862807041',\n",
      "                            '1145464819',\n",
      "                            '890189357516111872',\n",
      "                            '963114411417255938'],\n",
      "    847266282651004929: [   '705863590792732672',\n",
      "                            '3058586736',\n",
      "                            '23500226',\n",
      "                            '26179926',\n",
      "                            '2959142203'],\n",
      "    856026885750349824: [   '1866671161',\n",
      "                            '884701785147023360',\n",
      "                            '944258647776833536',\n",
      "                            '976252033702412289',\n",
      "                            '933753490664542208'],\n",
      "    858445451648827392: [   '722299932292616192',\n",
      "                            '2930106540',\n",
      "                            '935641570078052353',\n",
      "                            '964815805119586304',\n",
      "                            '3015067972'],\n",
      "    859359220960854018: [   '947761562172846080',\n",
      "                            '936901620784275456',\n",
      "                            '917391682882068486',\n",
      "                            '2224155972',\n",
      "                            '967002762239094784'],\n",
      "    926461467913748480: [   '976873594209882113',\n",
      "                            '79064890',\n",
      "                            '944934328366137345',\n",
      "                            '1193110321',\n",
      "                            '889669165539315713'],\n",
      "    931380687428448256: [   '932691558842826752',\n",
      "                            '914087800361779200',\n",
      "                            '949753686061969409',\n",
      "                            '958793351108677633',\n",
      "                            '973784415175430144'],\n",
      "    965517992720195584: [   '977206401301958657',\n",
      "                            '890544687794200576',\n",
      "                            '876094145449738243',\n",
      "                            '859136520753643521',\n",
      "                            '774434853991219200'],\n",
      "    975606397541941248: [   '976177088238583809',\n",
      "                            '975605706358444032',\n",
      "                            '975605170129158144',\n",
      "                            '975591413059502080',\n",
      "                            '975604887269593089'],\n",
      "    '65289126': [   '518660434',\n",
      "                    '2492399557',\n",
      "                    '970250077473267712',\n",
      "                    '1182868338',\n",
      "                    '337282307']}\n",
      "Friends Dict: \n",
      "{   337282307: ['47285504', '2715115656', '65289126', '1654545876', '26787673'],\n",
      "    378984697: [   '2463676916',\n",
      "                   '199434641',\n",
      "                   '337991139',\n",
      "                   '555334372',\n",
      "                   '170329469'],\n",
      "    397621733: [   '732308406',\n",
      "                   '269156625',\n",
      "                   '513367638',\n",
      "                   '851078551',\n",
      "                   '772455825474400256'],\n",
      "    518660434: [   '18173624',\n",
      "                   '65289126',\n",
      "                   '15687962',\n",
      "                   '955938603913289729',\n",
      "                   '705807268835672064'],\n",
      "    633768738: [   '796533741581582337',\n",
      "                   '936906349778046976',\n",
      "                   '815932511188434944',\n",
      "                   '1381209259',\n",
      "                   '4736797634'],\n",
      "    1182868338: [   '15687962',\n",
      "                    '750751206427860992',\n",
      "                    '2847028078',\n",
      "                    '701635518',\n",
      "                    '701667727'],\n",
      "    2216461686: [   '337282307',\n",
      "                    '26608599',\n",
      "                    '2239876314',\n",
      "                    '726674991647879169',\n",
      "                    '928451444633563136'],\n",
      "    3636794834: [   '927661413044183041',\n",
      "                    '948375855755120640',\n",
      "                    '43332918',\n",
      "                    '568642025',\n",
      "                    '895033428462186496'],\n",
      "    710223897551982592: [   '941980906549473280',\n",
      "                            '890838934862807041',\n",
      "                            '1182868338',\n",
      "                            '1290000931',\n",
      "                            '3285598472'],\n",
      "    847266282651004929: [   '1459996417',\n",
      "                            '44298145',\n",
      "                            '380020286',\n",
      "                            '17074714',\n",
      "                            '337282307'],\n",
      "    856026885750349824: [   '2634941605',\n",
      "                            '1643900821',\n",
      "                            '976252033702412289',\n",
      "                            '884701785147023360',\n",
      "                            '944258647776833536'],\n",
      "    858445451648827392: [   '63786611',\n",
      "                            '81944422',\n",
      "                            '734681467054264321',\n",
      "                            '22114947',\n",
      "                            '258648010'],\n",
      "    859359220960854018: [   '947761562172846080',\n",
      "                            '923899916157534208',\n",
      "                            '295677948',\n",
      "                            '957007421561479168',\n",
      "                            '950184492567748608'],\n",
      "    926461467913748480: [   '933688217093705728',\n",
      "                            '923862493008662528',\n",
      "                            '760216790693666816',\n",
      "                            '4732180638',\n",
      "                            '866935256242368513'],\n",
      "    931380687428448256: [   '919909292',\n",
      "                            '33996126',\n",
      "                            '425924595',\n",
      "                            '722103073490001920',\n",
      "                            '926040102513598464'],\n",
      "    965517992720195584: [   '2798731724',\n",
      "                            '434948476',\n",
      "                            '973080553871364096',\n",
      "                            '740403104282226689',\n",
      "                            '913022241889165312'],\n",
      "    970250077473267712: [   '65289126',\n",
      "                            '27042513',\n",
      "                            '2893511188',\n",
      "                            '166739404',\n",
      "                            '35031708'],\n",
      "    975606397541941248: [   '161417774',\n",
      "                            '761232458',\n",
      "                            '975591413059502080',\n",
      "                            '891024704',\n",
      "                            '523655260'],\n",
      "    '65289126': [   '235652000',\n",
      "                    '14939981',\n",
      "                    '194236759',\n",
      "                    '105675946',\n",
      "                    '896845017838272512']}\n"
     ]
    }
   ],
   "source": [
    "import pprint\n",
    "pp = pprint.PrettyPrinter(indent=4)\n",
    "print('Followers Dict: ')\n",
    "pp.pprint(user_followers)\n",
    "print('Friends Dict: ')\n",
    "pp.pprint(user_friends)"
   ]
  },
  {
   "cell_type": "markdown",
   "metadata": {},
   "source": [
    "--------------------------------------------------------------------------------------------------------------------------------"
   ]
  },
  {
   "cell_type": "markdown",
   "metadata": {},
   "source": [
    "- __Use the two friends and followers lists to find the reciprocal friends of the popular user. These are the distance-1 friends of that user.__"
   ]
  },
  {
   "cell_type": "markdown",
   "metadata": {},
   "source": [
    "__Reciprocal friends__ are: mutual followers, ie. the ones you follow and the ones who follow you. __Friends__ are: the ones which you follow. __Followers__ are: the ones who follow you.\n",
    "\n",
    "Given two sets, the intersection of the sets returns the items that they have in common. The intersection is a commutative operation. Analyzing friends and followers, the intersection of two sets can be interpreted as “mutual friends” or people you are following who are also following you back ie. Reciprocal Friends. You are likely to have much stronger affinities."
   ]
  },
  {
   "cell_type": "code",
   "execution_count": 9,
   "metadata": {},
   "outputs": [],
   "source": [
    "def get_reciprocal_friends(user_friends, user_followers):\n",
    "    set_friends= set(user_friends)\n",
    "    set_followers = set(user_followers)\n",
    "\n",
    "    # Getting User Id as it is the first element in the dictionary\n",
    "    user_id = next(iter(user_friends))\n",
    "    \n",
    "    # get reciprocal friends at distance-1 from the popular user:\n",
    "    reciprocal_friends = list(set_friends.intersection(set_followers))\n",
    "    return reciprocal_friends # List"
   ]
  },
  {
   "cell_type": "code",
   "execution_count": 10,
   "metadata": {},
   "outputs": [],
   "source": [
    "# Merge the data of both lists to just ids to simplify things\n",
    "all_followers_list = []\n",
    "all_friends_List = []\n",
    "\n",
    "for user_id, followers in user_followers.items():\n",
    "    all_followers_list.append(int(user_id))\n",
    "    for fo in range(len(followers)):\n",
    "        all_followers_list.append(int(user_followers.get(user_id)[fo]))\n",
    "        \n",
    "for user_id, friends in user_friends.items():\n",
    "    all_friends_List.append(int(user_id))\n",
    "    for fo in range(len(friends)):\n",
    "        all_friends_List.append(int(user_friends.get(user_id)[fo]))"
   ]
  },
  {
   "cell_type": "code",
   "execution_count": 11,
   "metadata": {},
   "outputs": [
    {
     "name": "stdout",
     "output_type": "stream",
     "text": [
      "All Followers List: \n",
      "65289126\n",
      "518660434\n",
      "2492399557\n",
      "970250077473267712\n",
      "1182868338\n",
      "337282307\n",
      "518660434\n",
      "3636794834\n",
      "858445451648827392\n",
      "975606397541941248\n",
      "859359220960854018\n",
      "856026885750349824\n",
      "1182868338\n",
      "710223897551982592\n",
      "965517992720195584\n",
      "902498377950044160\n",
      "633768738\n",
      "397621733\n",
      "337282307\n",
      "2216461686\n",
      "931380687428448256\n",
      "926461467913748480\n",
      "847266282651004929\n",
      "378984697\n",
      "3636794834\n",
      "927661413044183041\n",
      "863802393863086082\n",
      "4350930993\n",
      "745037718279823360\n",
      "240837333\n",
      "858445451648827392\n",
      "722299932292616192\n",
      "2930106540\n",
      "935641570078052353\n",
      "964815805119586304\n",
      "3015067972\n",
      "975606397541941248\n",
      "976177088238583809\n",
      "975605706358444032\n",
      "975605170129158144\n",
      "975591413059502080\n",
      "975604887269593089\n",
      "859359220960854018\n",
      "947761562172846080\n",
      "936901620784275456\n",
      "917391682882068486\n",
      "2224155972\n",
      "967002762239094784\n",
      "856026885750349824\n",
      "1866671161\n",
      "884701785147023360\n",
      "944258647776833536\n",
      "976252033702412289\n",
      "933753490664542208\n",
      "710223897551982592\n",
      "1182868338\n",
      "890838934862807041\n",
      "1145464819\n",
      "890189357516111872\n",
      "963114411417255938\n",
      "965517992720195584\n",
      "977206401301958657\n",
      "890544687794200576\n",
      "876094145449738243\n",
      "859136520753643521\n",
      "774434853991219200\n",
      "633768738\n",
      "938803471007956992\n",
      "936906349778046976\n",
      "476883985\n",
      "932767562504400896\n",
      "798181144097267712\n",
      "397621733\n",
      "970727708505227264\n",
      "924835007822118913\n",
      "3004373479\n",
      "912204328865169409\n",
      "960012465806262274\n",
      "2216461686\n",
      "476099460\n",
      "824778386497232896\n",
      "928451444633563136\n",
      "27541523\n",
      "4720384904\n",
      "931380687428448256\n",
      "932691558842826752\n",
      "914087800361779200\n",
      "949753686061969409\n",
      "958793351108677633\n",
      "973784415175430144\n",
      "926461467913748480\n",
      "976873594209882113\n",
      "79064890\n",
      "944934328366137345\n",
      "1193110321\n",
      "889669165539315713\n",
      "847266282651004929\n",
      "705863590792732672\n",
      "3058586736\n",
      "23500226\n",
      "26179926\n",
      "2959142203\n",
      "378984697\n",
      "18733333\n",
      "858890875\n",
      "\n",
      " All Friends List: \n",
      "65289126\n",
      "235652000\n",
      "14939981\n",
      "194236759\n",
      "105675946\n",
      "896845017838272512\n",
      "518660434\n",
      "18173624\n",
      "65289126\n",
      "15687962\n",
      "955938603913289729\n",
      "705807268835672064\n",
      "970250077473267712\n",
      "65289126\n",
      "27042513\n",
      "2893511188\n",
      "166739404\n",
      "35031708\n",
      "1182868338\n",
      "15687962\n",
      "750751206427860992\n",
      "2847028078\n",
      "701635518\n",
      "701667727\n",
      "337282307\n",
      "47285504\n",
      "2715115656\n",
      "65289126\n",
      "1654545876\n",
      "26787673\n",
      "3636794834\n",
      "927661413044183041\n",
      "948375855755120640\n",
      "43332918\n",
      "568642025\n",
      "895033428462186496\n",
      "858445451648827392\n",
      "63786611\n",
      "81944422\n",
      "734681467054264321\n",
      "22114947\n",
      "258648010\n",
      "975606397541941248\n",
      "161417774\n",
      "761232458\n",
      "975591413059502080\n",
      "891024704\n",
      "523655260\n",
      "859359220960854018\n",
      "947761562172846080\n",
      "923899916157534208\n",
      "295677948\n",
      "957007421561479168\n",
      "950184492567748608\n",
      "856026885750349824\n",
      "2634941605\n",
      "1643900821\n",
      "976252033702412289\n",
      "884701785147023360\n",
      "944258647776833536\n",
      "710223897551982592\n",
      "941980906549473280\n",
      "890838934862807041\n",
      "1182868338\n",
      "1290000931\n",
      "3285598472\n",
      "965517992720195584\n",
      "2798731724\n",
      "434948476\n",
      "973080553871364096\n",
      "740403104282226689\n",
      "913022241889165312\n",
      "633768738\n",
      "796533741581582337\n",
      "936906349778046976\n",
      "815932511188434944\n",
      "1381209259\n",
      "4736797634\n",
      "397621733\n",
      "732308406\n",
      "269156625\n",
      "513367638\n",
      "851078551\n",
      "772455825474400256\n",
      "2216461686\n",
      "337282307\n",
      "26608599\n",
      "2239876314\n",
      "726674991647879169\n",
      "928451444633563136\n",
      "931380687428448256\n",
      "919909292\n",
      "33996126\n",
      "425924595\n",
      "722103073490001920\n",
      "926040102513598464\n",
      "926461467913748480\n",
      "933688217093705728\n",
      "923862493008662528\n",
      "760216790693666816\n",
      "4732180638\n",
      "866935256242368513\n",
      "847266282651004929\n",
      "1459996417\n",
      "44298145\n",
      "380020286\n",
      "17074714\n",
      "337282307\n",
      "378984697\n",
      "2463676916\n",
      "199434641\n",
      "337991139\n",
      "555334372\n",
      "170329469\n"
     ]
    }
   ],
   "source": [
    "print(\"All Followers List: \")\n",
    "for x in range(len(all_followers_list)):\n",
    "    print(all_followers_list[x])\n",
    "print(\"\\n All Friends List: \")\n",
    "for x in range(len(all_friends_List)):\n",
    "    print(all_friends_List[x])"
   ]
  },
  {
   "cell_type": "code",
   "execution_count": 12,
   "metadata": {},
   "outputs": [
    {
     "name": "stdout",
     "output_type": "stream",
     "text": [
      "Reciprocal Friends:  [970250077473267712, 858445451648827392, 859359220960854018, 856026885750349824, 975606397541941248, 710223897551982592, 965517992720195584, 926461467913748480, 847266282651004929, 927661413044183041, 976252033702412289, 890838934862807041, 936906349778046976, 944258647776833536, 633768738, 65289126, 337282307, 931380687428448256, 947761562172846080, 928451444633563136, 518660434, 3636794834, 975591413059502080, 397621733, 884701785147023360, 1182868338, 2216461686, 378984697]\n"
     ]
    }
   ],
   "source": [
    "# Get a list of reciprocal friends\n",
    "reciprocal_friends = get_reciprocal_friends(all_friends_List, all_followers_list)\n",
    "print('Reciprocal Friends: ', reciprocal_friends)"
   ]
  },
  {
   "cell_type": "markdown",
   "metadata": {},
   "source": [
    "--------------------------------------------------------------------------------------------------------------------------------"
   ]
  },
  {
   "cell_type": "markdown",
   "metadata": {},
   "source": [
    "- __From that list of distance-1 friends, select the 5 most popular as determined by their followers_count values in user profiles. Use, for instance, the get_user_profile function from Mining the Social Web.__"
   ]
  },
  {
   "cell_type": "code",
   "execution_count": 13,
   "metadata": {},
   "outputs": [],
   "source": [
    "# Used to retreive follower count and get profile details\n",
    "\n",
    "# Resolving user profile information\n",
    "def get_user_profile(twitter_api, screen_names=None, user_ids=None):\n",
    "    \n",
    "    # Must have either screen_name or user_id (logical xor)\n",
    "    assert (screen_names != None) != (user_ids != None), \\\n",
    "    \"Must have screen_names or user_ids, but not both\"\n",
    "\n",
    "    items_to_info = {}\n",
    "    items = screen_names or user_ids\n",
    "\n",
    "    while len(items) > 0:\n",
    "        # Process 100 items at a time per the API specifications for /users/lookup.\n",
    "        # See https://dev.twitter.com/docs/api/1.1/get/users/lookup for details.\n",
    "        \n",
    "        items_str = ','.join([str(item) for item in items[:100]])\n",
    "        items = items[100:]\n",
    "        if screen_names:\n",
    "            response = make_twitter_request(twitter_api.users.lookup,\n",
    "                                            screen_name=items_str)\n",
    "        else: # user_ids\n",
    "            response = make_twitter_request(twitter_api.users.lookup,\n",
    "                                            user_id=items_str)\n",
    "            \n",
    "        for user_info in response:\n",
    "            if screen_names:\n",
    "                items_to_info[user_info['screen_name']] = user_info\n",
    "            else: # user_ids\n",
    "                items_to_info[user_info['id']] = user_info\n",
    "                \n",
    "    return items_to_info"
   ]
  },
  {
   "cell_type": "code",
   "execution_count": 14,
   "metadata": {},
   "outputs": [
    {
     "name": "stdout",
     "output_type": "stream",
     "text": [
      "(970250077473267712, 0)\n",
      "(858445451648827392, 431)\n",
      "(859359220960854018, 173)\n",
      "(856026885750349824, 265)\n",
      "(975606397541941248, 5)\n",
      "(710223897551982592, 123)\n",
      "(965517992720195584, 105)\n",
      "(926461467913748480, 1742)\n",
      "(847266282651004929, 11)\n",
      "(927661413044183041, 66)\n",
      "(976252033702412289, 163)\n",
      "(890838934862807041, 444)\n",
      "(936906349778046976, 36)\n",
      "(944258647776833536, 486)\n",
      "(633768738, 825)\n",
      "(65289126, 2948355)\n",
      "(337282307, 131)\n",
      "(931380687428448256, 92)\n",
      "(947761562172846080, 283)\n",
      "(928451444633563136, 3)\n",
      "(518660434, 20)\n",
      "(3636794834, 4744)\n",
      "(975591413059502080, 5)\n",
      "(397621733, 1458)\n",
      "(884701785147023360, 2959)\n",
      "(1182868338, 265)\n",
      "(2216461686, 129)\n",
      "(378984697, 2)\n"
     ]
    }
   ],
   "source": [
    "# Create a list of tuples of the followers count\n",
    "follower_count_list = []\n",
    "\n",
    "if not reciprocal_friends: # Case1: if reciprocal friends are 0\n",
    "    combined_friends_followers = []\n",
    "    combined_friends_followers = all_followers_list + all_friends_List\n",
    "    combined_friends_followers = set(combined_friends_followers)\n",
    "    \n",
    "    for user_id in list(combined_friends_followers):\n",
    "        us_data = get_user_profile(t, user_ids=[user_id])\n",
    "        us_data = json.dumps(us_data)\n",
    "        us_data = json.loads(us_data)\n",
    "        fo_count = us_data[str(user_id)]['followers_count']\n",
    "        follower_count_list.append(((int(user_id), int(fo_count))))\n",
    "    \n",
    "else: #Case2: if reciprocal friends are present\n",
    "    for user_id in list(reciprocal_friends):\n",
    "        us_data = get_user_profile(t, user_ids=[user_id])\n",
    "        us_data = json.dumps(us_data)\n",
    "        us_data = json.loads(us_data)\n",
    "        fo_count = us_data[str(user_id)]['followers_count']\n",
    "        follower_count_list.append(((int(user_id), int(fo_count))))\n",
    "    #print(follower_count_list)\n",
    "    \n",
    "for x in range(len(follower_count_list)):\n",
    "    print(follower_count_list[x])"
   ]
  },
  {
   "cell_type": "code",
   "execution_count": 15,
   "metadata": {
    "scrolled": true
   },
   "outputs": [
    {
     "name": "stdout",
     "output_type": "stream",
     "text": [
      "[(65289126, 2948355), (3636794834, 4744), (884701785147023360, 2959), (926461467913748480, 1742), (397621733, 1458), (633768738, 825), (944258647776833536, 486), (890838934862807041, 444), (858445451648827392, 431), (947761562172846080, 283), (856026885750349824, 265), (1182868338, 265), (859359220960854018, 173), (976252033702412289, 163), (337282307, 131), (2216461686, 129), (710223897551982592, 123), (965517992720195584, 105), (931380687428448256, 92), (927661413044183041, 66), (936906349778046976, 36), (518660434, 20), (847266282651004929, 11), (975606397541941248, 5), (975591413059502080, 5), (928451444633563136, 3), (378984697, 2), (970250077473267712, 0)]\n"
     ]
    }
   ],
   "source": [
    "# Sort the follower count list, in decreasing order wrt values\n",
    "sorted_count_list = sorted(follower_count_list, key=lambda fo_count: fo_count[1], reverse=True) # sort by count values\n",
    "print(sorted_count_list)"
   ]
  },
  {
   "cell_type": "markdown",
   "metadata": {},
   "source": [
    "- __Get top-5 followers by user id__"
   ]
  },
  {
   "cell_type": "code",
   "execution_count": 16,
   "metadata": {},
   "outputs": [],
   "source": [
    "# Get followers for the TOP-5 in this list\n",
    "\n",
    "def crawl_followers_by_user_id(twitter_api, user_friends, user_followers, user_id=None, limit=1000000, depth=1):\n",
    "    screen_id = user_id\n",
    "    friend_queue, next_queue = get_friends_followers_ids(twitter_api, user_id=screen_id,\n",
    "                        friends_limit=limit, followers_limit=limit)\n",
    "    \n",
    "    # Store followers in an object\n",
    "    #user_followers = dict()\n",
    "    follower_list = [str(x) for x in next_queue]\n",
    "    \n",
    "    for line1 in follower_list:\n",
    "        # here define what key is, for example,\n",
    "        key = screen_id\n",
    "        user_followers.setdefault(key,[]).append(line1)\n",
    "    \n",
    "    # Store friends in an object\n",
    "    #user_friends = dict()\n",
    "    friend_list = [str(x) for x in friend_queue]\n",
    "    \n",
    "    for line2 in friend_list:\n",
    "        # here define what key is, for example,\n",
    "        key = screen_id\n",
    "        user_friends.setdefault(key,[]).append(line2)\n",
    "\n",
    "    #null_var = \"\"\n",
    "    #save_followers(seed_id, \"'\"+','.join([str(x) for x in next_queue if x is not null_var])+\"'\")\n",
    "    \n",
    "    d = 1\n",
    "    list_count = 0\n",
    "    tempDict = dict()\n",
    "    # Note that in the example in the next cell, we never enter this loop.\n",
    "    while d < depth and list_count < 100:\n",
    "        d += 1\n",
    "        list_count += 1\n",
    "        # Reset the next_queue so that we can start building up the next level of followers-of-followers\n",
    "        (queue, next_queue) = (next_queue, [])\n",
    "        \n",
    "        # Loop through the current level of followers\n",
    "        for fid in queue:\n",
    "            friendid_queue, follower_ids = get_friends_followers_ids(twitter_api, user_id=fid, friends_limit=limit, followers_limit=limit)\n",
    "            \n",
    "            # Store an ID with a string recording IDs of followers of the user with ID \"fid\"\n",
    "            #save_followers(str(fid), \"'\"+','.join([str(x) for x in follower_ids if x is not null_var])+\"'\")\n",
    "\n",
    "            # Store followers in an object\n",
    "            follower_ids_list = [str(x) for x in follower_ids]\n",
    "\n",
    "            for line3 in follower_ids_list:\n",
    "                # here define what key is, for example,\n",
    "                key = fid\n",
    "                user_followers.setdefault(key,[]).append(line3)\n",
    "\n",
    "            # Store friends in an object\n",
    "            friendsid_list = [str(x) for x in friendid_queue]\n",
    "    \n",
    "            for line4 in friendsid_list:\n",
    "                # here define what key is, for example,\n",
    "                key = fid\n",
    "                user_friends.setdefault(key,[]).append(line4)\n",
    "        \n",
    "            # Extending the list\n",
    "            next_queue += follower_ids\n",
    "            friend_queue += friendid_queue\n",
    "        \n",
    "        tempDict.update(user_followers)\n",
    "        tempDict.update(user_friends)\n",
    "        list_count = sum(len(v) for k, v in tempDict.items())\n",
    "        print('Length of list: ', list_count)\n",
    "    \n",
    "    return user_friends, user_followers # Dicts"
   ]
  },
  {
   "cell_type": "code",
   "execution_count": 17,
   "metadata": {
    "scrolled": true
   },
   "outputs": [
    {
     "name": "stdout",
     "output_type": "stream",
     "text": [
      "Sorted Count List Len:  28\n",
      "Fetched 923 total friends ids for 65289126\n",
      "Fetched 5000 total followers ids for 65289126\n",
      "Fetched 1102 total friends ids for 1399055209\n",
      "Fetched 116 total followers ids for 1399055209\n",
      "Fetched 54 total friends ids for 2781426649\n",
      "Fetched 5 total followers ids for 2781426649\n",
      "Fetched 154 total friends ids for 2583079112\n",
      "Fetched 39 total followers ids for 2583079112\n",
      "Fetched 167 total friends ids for 978831903955484672\n",
      "Fetched 1 total followers ids for 978831903955484672\n",
      "Fetched 30 total friends ids for 978831705854296065\n",
      "Fetched 0 total followers ids for 978831705854296065\n",
      "Length of list:  30\n",
      "Fetched 923 total friends ids for 65289126\n",
      "Fetched 5000 total followers ids for 65289126\n",
      "Fetched 1103 total friends ids for 1399055209\n",
      "Fetched 116 total followers ids for 1399055209\n",
      "Fetched 54 total friends ids for 2781426649\n"
     ]
    },
    {
     "name": "stderr",
     "output_type": "stream",
     "text": [
      "Encountered 429 Error (Rate Limit Exceeded)\n",
      "Retrying in 15 minutes...ZzZ...\n"
     ]
    },
    {
     "name": "stdout",
     "output_type": "stream",
     "text": [
      "Fetched 5 total followers ids for 2781426649\n"
     ]
    },
    {
     "name": "stderr",
     "output_type": "stream",
     "text": [
      "...ZzZ...Awake now and trying again.\n"
     ]
    },
    {
     "name": "stdout",
     "output_type": "stream",
     "text": [
      "Fetched 158 total friends ids for 2583079112\n",
      "Fetched 39 total followers ids for 2583079112\n",
      "Fetched 174 total friends ids for 978831903955484672\n",
      "Fetched 4 total followers ids for 978831903955484672\n",
      "Fetched 30 total friends ids for 978831705854296065\n",
      "Fetched 0 total followers ids for 978831705854296065\n",
      "Length of list:  60\n",
      "Fetched 923 total friends ids for 65289126\n",
      "Fetched 5000 total followers ids for 65289126\n",
      "Fetched 29 total friends ids for 972846190436995073\n",
      "Fetched 0 total followers ids for 972846190436995073\n",
      "Fetched 0 total friends ids for 280887700\n"
     ]
    },
    {
     "name": "stderr",
     "output_type": "stream",
     "text": [
      "Encountered 401 Error (Not Authorized)\n",
      "Encountered 401 Error (Not Authorized)\n"
     ]
    },
    {
     "name": "stdout",
     "output_type": "stream",
     "text": [
      "Fetched 0 total followers ids for 280887700\n",
      "Fetched 190 total friends ids for 978835756163661824\n",
      "Fetched 1 total followers ids for 978835756163661824\n",
      "Fetched 128 total friends ids for 978791370843443200\n",
      "Fetched 2 total followers ids for 978791370843443200\n",
      "Fetched 51 total friends ids for 978835346296397825\n",
      "Fetched 0 total followers ids for 978835346296397825\n",
      "Length of list:  85\n",
      "Fetched 923 total friends ids for 65289126\n",
      "Fetched 5000 total followers ids for 65289126\n",
      "Fetched 29 total friends ids for 972846190436995073\n",
      "Fetched 0 total followers ids for 972846190436995073\n",
      "Fetched 0 total friends ids for 280887700\n"
     ]
    },
    {
     "name": "stderr",
     "output_type": "stream",
     "text": [
      "Encountered 401 Error (Not Authorized)\n",
      "Encountered 401 Error (Not Authorized)\n"
     ]
    },
    {
     "name": "stdout",
     "output_type": "stream",
     "text": [
      "Fetched 0 total followers ids for 280887700\n",
      "Fetched 190 total friends ids for 978835756163661824\n",
      "Fetched 1 total followers ids for 978835756163661824\n",
      "Fetched 128 total friends ids for 978791370843443200\n",
      "Fetched 2 total followers ids for 978791370843443200\n",
      "Fetched 51 total friends ids for 978835346296397825\n"
     ]
    },
    {
     "name": "stderr",
     "output_type": "stream",
     "text": [
      "Encountered 429 Error (Rate Limit Exceeded)\n",
      "Retrying in 15 minutes...ZzZ...\n"
     ]
    },
    {
     "name": "stdout",
     "output_type": "stream",
     "text": [
      "Fetched 0 total followers ids for 978835346296397825\n",
      "Length of list:  110\n"
     ]
    },
    {
     "name": "stderr",
     "output_type": "stream",
     "text": [
      "...ZzZ...Awake now and trying again.\n"
     ]
    },
    {
     "name": "stdout",
     "output_type": "stream",
     "text": [
      "Fetched 923 total friends ids for 65289126\n",
      "Fetched 5000 total followers ids for 65289126\n",
      "Fetched 60 total friends ids for 978839456416436224\n",
      "Fetched 0 total followers ids for 978839456416436224\n",
      "Fetched 126 total friends ids for 937393676971491328\n",
      "Fetched 0 total followers ids for 937393676971491328\n",
      "Fetched 0 total friends ids for 952056320714264576\n"
     ]
    },
    {
     "name": "stderr",
     "output_type": "stream",
     "text": [
      "Encountered 401 Error (Not Authorized)\n",
      "Encountered 401 Error (Not Authorized)\n"
     ]
    },
    {
     "name": "stdout",
     "output_type": "stream",
     "text": [
      "Fetched 0 total followers ids for 952056320714264576\n",
      "Fetched 27 total friends ids for 978839788785565696\n",
      "Fetched 1 total followers ids for 978839788785565696\n",
      "Fetched 982 total friends ids for 2305301804\n",
      "Fetched 5000 total followers ids for 2305301804\n",
      "Length of list:  135\n",
      "end_friends:  {65289126: ['235652000', '14939981', '194236759', '105675946', '896845017838272512', '235652000', '14939981', '194236759', '105675946', '896845017838272512', '235652000', '14939981', '194236759', '105675946', '896845017838272512', '235652000', '14939981', '194236759', '105675946', '896845017838272512', '235652000', '14939981', '194236759', '105675946', '896845017838272512'], 1399055209: ['4724959268', '18173624', '65289126', '701615052', '281217033', '4754523444', '4724959268', '18173624', '65289126', '701615052'], 2781426649: ['18173624', '624056226', '65289126', '750751206427860992', '2893511188', '18173624', '624056226', '65289126', '750751206427860992', '2893511188'], 2583079112: ['2847028078', '701635518', '701667727', '701625379', '701615052', '2846982741', '2151416029', '281217033', '3000230307', '2847028078'], 978831903955484672: ['16548023', '19725644', '133880286', '15846407', '953722184', '292427499', '145777928', '120914199', '76542358', '823571918'], 978831705854296065: ['21904217', '137621198', '15220473', '114446939', '3836540300', '21904217', '137621198', '15220473', '114446939', '3836540300'], 972846190436995073: ['65289126', '100325421', '624056226', '3355313961', '808413440142442497', '65289126', '100325421', '624056226', '3355313961', '808413440142442497'], 978835756163661824: ['834510971150409728', '1090303602', '115097171', '418380713', '75365061', '834510971150409728', '1090303602', '115097171', '418380713', '75365061'], 978791370843443200: ['792855438', '282064204', '236699098', '96879107', '355740383', '792855438', '282064204', '236699098', '96879107', '355740383'], 978835346296397825: ['1670174994', '80655102', '197493438', '84648798', '100220864', '1670174994', '80655102', '197493438', '84648798', '100220864'], 978839456416436224: ['925960206', '369011328', '52551600', '16548023', '19725644'], 937393676971491328: ['20536157', '50393960', '1451773004', '13298072', '34743251'], 978839788785565696: ['114446939', '14749606', '96307859', '143819549', '137621198'], 2305301804: ['65289126', '4193581347', '1117931702', '357294577', '268270621']}\n",
      "end_followers:  {65289126: ['1399055209', '2781426649', '2583079112', '978831903955484672', '978831705854296065', '1399055209', '2781426649', '2583079112', '978831903955484672', '978831705854296065', '972846190436995073', '280887700', '978835756163661824', '978791370843443200', '978835346296397825', '972846190436995073', '280887700', '978835756163661824', '978791370843443200', '978835346296397825', '978839456416436224', '937393676971491328', '952056320714264576', '978839788785565696', '2305301804'], 1399055209: ['350987335', '976159428843134978', '964919755', '712666196580114432', '900577582365724672', '350987335', '976159428843134978', '964919755', '712666196580114432', '900577582365724672'], 2781426649: ['724658680080125953', '1576203686', '16234493', '2480262881', '1975799011', '724658680080125953', '1576203686', '16234493', '2480262881', '1975799011'], 2583079112: ['978832267475812352', '928463606831869958', '2922895731', '3196573934', '772788546809757696', '978832267475812352', '928463606831869958', '2922895731', '3196573934', '772788546809757696'], 978831903955484672: ['978832205735751681', '2710271412', '978833552094715907', '978833467113902082', '978832205735751681'], 978835756163661824: ['978836059395166209', '978836059395166209'], 978791370843443200: ['978836059395166209', '978835902662369280', '978836059395166209', '978835902662369280'], 978839788785565696: ['978839634758242307'], 2305301804: ['856220004290834434', '978107126970224641', '1330670276', '2918003928', '1554489331']}\n"
     ]
    }
   ],
   "source": [
    "#from collections import Counter\n",
    "\n",
    "sorted_count_list_len = len(sorted_count_list)\n",
    "print('Sorted Count List Len: ', sorted_count_list_len)\n",
    "\n",
    "end_friends = dict()\n",
    "end_followers = dict()\n",
    "\n",
    "tempCount = 0\n",
    "for item in range(sorted_count_list_len):\n",
    "    while tempCount < 5 : # consider only top 5\n",
    "        tempCount += 1\n",
    "        userid = sorted_count_list[item][0]\n",
    "        #print(userid)\n",
    "        end_friends, end_followers = crawl_followers_by_user_id(t, end_friends, end_followers, user_id=userid, limit=5, depth=2)\n",
    "        \n",
    "print('end_friends: ',end_friends)\n",
    "print('end_followers: ', end_followers)"
   ]
  },
  {
   "cell_type": "code",
   "execution_count": 18,
   "metadata": {},
   "outputs": [
    {
     "name": "stdout",
     "output_type": "stream",
     "text": [
      "14\n",
      "{   65289126: [   '235652000',\n",
      "                  '14939981',\n",
      "                  '194236759',\n",
      "                  '105675946',\n",
      "                  '896845017838272512',\n",
      "                  '235652000',\n",
      "                  '14939981',\n",
      "                  '194236759',\n",
      "                  '105675946',\n",
      "                  '896845017838272512',\n",
      "                  '235652000',\n",
      "                  '14939981',\n",
      "                  '194236759',\n",
      "                  '105675946',\n",
      "                  '896845017838272512',\n",
      "                  '235652000',\n",
      "                  '14939981',\n",
      "                  '194236759',\n",
      "                  '105675946',\n",
      "                  '896845017838272512',\n",
      "                  '235652000',\n",
      "                  '14939981',\n",
      "                  '194236759',\n",
      "                  '105675946',\n",
      "                  '896845017838272512'],\n",
      "    1399055209: [   '4724959268',\n",
      "                    '18173624',\n",
      "                    '65289126',\n",
      "                    '701615052',\n",
      "                    '281217033',\n",
      "                    '4754523444',\n",
      "                    '4724959268',\n",
      "                    '18173624',\n",
      "                    '65289126',\n",
      "                    '701615052'],\n",
      "    2305301804: [   '65289126',\n",
      "                    '4193581347',\n",
      "                    '1117931702',\n",
      "                    '357294577',\n",
      "                    '268270621'],\n",
      "    2583079112: [   '2847028078',\n",
      "                    '701635518',\n",
      "                    '701667727',\n",
      "                    '701625379',\n",
      "                    '701615052',\n",
      "                    '2846982741',\n",
      "                    '2151416029',\n",
      "                    '281217033',\n",
      "                    '3000230307',\n",
      "                    '2847028078'],\n",
      "    2781426649: [   '18173624',\n",
      "                    '624056226',\n",
      "                    '65289126',\n",
      "                    '750751206427860992',\n",
      "                    '2893511188',\n",
      "                    '18173624',\n",
      "                    '624056226',\n",
      "                    '65289126',\n",
      "                    '750751206427860992',\n",
      "                    '2893511188'],\n",
      "    937393676971491328: [   '20536157',\n",
      "                            '50393960',\n",
      "                            '1451773004',\n",
      "                            '13298072',\n",
      "                            '34743251'],\n",
      "    972846190436995073: [   '65289126',\n",
      "                            '100325421',\n",
      "                            '624056226',\n",
      "                            '3355313961',\n",
      "                            '808413440142442497',\n",
      "                            '65289126',\n",
      "                            '100325421',\n",
      "                            '624056226',\n",
      "                            '3355313961',\n",
      "                            '808413440142442497'],\n",
      "    978791370843443200: [   '792855438',\n",
      "                            '282064204',\n",
      "                            '236699098',\n",
      "                            '96879107',\n",
      "                            '355740383',\n",
      "                            '792855438',\n",
      "                            '282064204',\n",
      "                            '236699098',\n",
      "                            '96879107',\n",
      "                            '355740383'],\n",
      "    978831705854296065: [   '21904217',\n",
      "                            '137621198',\n",
      "                            '15220473',\n",
      "                            '114446939',\n",
      "                            '3836540300',\n",
      "                            '21904217',\n",
      "                            '137621198',\n",
      "                            '15220473',\n",
      "                            '114446939',\n",
      "                            '3836540300'],\n",
      "    978831903955484672: [   '16548023',\n",
      "                            '19725644',\n",
      "                            '133880286',\n",
      "                            '15846407',\n",
      "                            '953722184',\n",
      "                            '292427499',\n",
      "                            '145777928',\n",
      "                            '120914199',\n",
      "                            '76542358',\n",
      "                            '823571918'],\n",
      "    978835346296397825: [   '1670174994',\n",
      "                            '80655102',\n",
      "                            '197493438',\n",
      "                            '84648798',\n",
      "                            '100220864',\n",
      "                            '1670174994',\n",
      "                            '80655102',\n",
      "                            '197493438',\n",
      "                            '84648798',\n",
      "                            '100220864'],\n",
      "    978835756163661824: [   '834510971150409728',\n",
      "                            '1090303602',\n",
      "                            '115097171',\n",
      "                            '418380713',\n",
      "                            '75365061',\n",
      "                            '834510971150409728',\n",
      "                            '1090303602',\n",
      "                            '115097171',\n",
      "                            '418380713',\n",
      "                            '75365061'],\n",
      "    978839456416436224: [   '925960206',\n",
      "                            '369011328',\n",
      "                            '52551600',\n",
      "                            '16548023',\n",
      "                            '19725644'],\n",
      "    978839788785565696: [   '114446939',\n",
      "                            '14749606',\n",
      "                            '96307859',\n",
      "                            '143819549',\n",
      "                            '137621198']}\n"
     ]
    }
   ],
   "source": [
    "all_end_nodes = dict(end_followers)\n",
    "all_end_nodes.update(end_friends)\n",
    "\n",
    "print(len(all_end_nodes))\n",
    "pp.pprint(all_end_nodes)"
   ]
  },
  {
   "cell_type": "markdown",
   "metadata": {},
   "source": [
    "--------------------------------------------------------------------------------------------------------------------------------"
   ]
  },
  {
   "cell_type": "markdown",
   "metadata": {},
   "source": [
    "- Save the nodes (users) in a .json file"
   ]
  },
  {
   "cell_type": "code",
   "execution_count": 19,
   "metadata": {},
   "outputs": [],
   "source": [
    "import json\n",
    "\n",
    "with open('Graph_data.json', 'w') as fp:\n",
    "    json.dump(all_end_nodes, fp, indent=4)"
   ]
  },
  {
   "cell_type": "markdown",
   "metadata": {},
   "source": [
    "--------------------------------------------------------------------------------------------------------------------------------"
   ]
  },
  {
   "cell_type": "markdown",
   "metadata": {},
   "source": [
    "- Import the json user details of followers and friends"
   ]
  },
  {
   "cell_type": "code",
   "execution_count": 20,
   "metadata": {
    "scrolled": true
   },
   "outputs": [],
   "source": [
    "with open('Graph_data.json', 'r') as fp:\n",
    "    data = json.load(fp)"
   ]
  },
  {
   "cell_type": "markdown",
   "metadata": {},
   "source": [
    "- convert the details to create a list of nodes and list of edges"
   ]
  },
  {
   "cell_type": "code",
   "execution_count": 21,
   "metadata": {},
   "outputs": [
    {
     "name": "stdout",
     "output_type": "stream",
     "text": [
      "83\n"
     ]
    }
   ],
   "source": [
    "node_list = []\n",
    "\n",
    "for user_id, followers in data.items():\n",
    "    node_list.append(int(user_id))\n",
    "    #for fo in range(len(followers)):\n",
    "        #node_list.append(int(data.get(user_id)[fo]))\n",
    "    node_list += followers \n",
    "\n",
    "#for x in range(len(node_list)):\n",
    "#    print(node_list[x])\n",
    "\n",
    "# Convert a list to a set to get the unique ids, and then back to a list\n",
    "node_list = list(set(node_list))\n",
    "print(len(node_list))"
   ]
  },
  {
   "cell_type": "code",
   "execution_count": 22,
   "metadata": {},
   "outputs": [
    {
     "name": "stdout",
     "output_type": "stream",
     "text": [
      "(65289126, 235652000)\n",
      "(65289126, 14939981)\n",
      "(65289126, 194236759)\n",
      "(65289126, 105675946)\n",
      "(65289126, 896845017838272512)\n",
      "(65289126, 235652000)\n",
      "(65289126, 14939981)\n",
      "(65289126, 194236759)\n",
      "(65289126, 105675946)\n",
      "(65289126, 896845017838272512)\n",
      "(65289126, 235652000)\n",
      "(65289126, 14939981)\n",
      "(65289126, 194236759)\n",
      "(65289126, 105675946)\n",
      "(65289126, 896845017838272512)\n",
      "(65289126, 235652000)\n",
      "(65289126, 14939981)\n",
      "(65289126, 194236759)\n",
      "(65289126, 105675946)\n",
      "(65289126, 896845017838272512)\n",
      "(65289126, 235652000)\n",
      "(65289126, 14939981)\n",
      "(65289126, 194236759)\n",
      "(65289126, 105675946)\n",
      "(65289126, 896845017838272512)\n",
      "(1399055209, 4724959268)\n",
      "(1399055209, 18173624)\n",
      "(1399055209, 65289126)\n",
      "(1399055209, 701615052)\n",
      "(1399055209, 281217033)\n",
      "(1399055209, 4754523444)\n",
      "(1399055209, 4724959268)\n",
      "(1399055209, 18173624)\n",
      "(1399055209, 65289126)\n",
      "(1399055209, 701615052)\n",
      "(2781426649, 18173624)\n",
      "(2781426649, 624056226)\n",
      "(2781426649, 65289126)\n",
      "(2781426649, 750751206427860992)\n",
      "(2781426649, 2893511188)\n",
      "(2781426649, 18173624)\n",
      "(2781426649, 624056226)\n",
      "(2781426649, 65289126)\n",
      "(2781426649, 750751206427860992)\n",
      "(2781426649, 2893511188)\n",
      "(2583079112, 2847028078)\n",
      "(2583079112, 701635518)\n",
      "(2583079112, 701667727)\n",
      "(2583079112, 701625379)\n",
      "(2583079112, 701615052)\n",
      "(2583079112, 2846982741)\n",
      "(2583079112, 2151416029)\n",
      "(2583079112, 281217033)\n",
      "(2583079112, 3000230307)\n",
      "(2583079112, 2847028078)\n",
      "(978831903955484672, 16548023)\n",
      "(978831903955484672, 19725644)\n",
      "(978831903955484672, 133880286)\n",
      "(978831903955484672, 15846407)\n",
      "(978831903955484672, 953722184)\n",
      "(978831903955484672, 292427499)\n",
      "(978831903955484672, 145777928)\n",
      "(978831903955484672, 120914199)\n",
      "(978831903955484672, 76542358)\n",
      "(978831903955484672, 823571918)\n",
      "(978835756163661824, 834510971150409728)\n",
      "(978835756163661824, 1090303602)\n",
      "(978835756163661824, 115097171)\n",
      "(978835756163661824, 418380713)\n",
      "(978835756163661824, 75365061)\n",
      "(978835756163661824, 834510971150409728)\n",
      "(978835756163661824, 1090303602)\n",
      "(978835756163661824, 115097171)\n",
      "(978835756163661824, 418380713)\n",
      "(978835756163661824, 75365061)\n",
      "(978791370843443200, 792855438)\n",
      "(978791370843443200, 282064204)\n",
      "(978791370843443200, 236699098)\n",
      "(978791370843443200, 96879107)\n",
      "(978791370843443200, 355740383)\n",
      "(978791370843443200, 792855438)\n",
      "(978791370843443200, 282064204)\n",
      "(978791370843443200, 236699098)\n",
      "(978791370843443200, 96879107)\n",
      "(978791370843443200, 355740383)\n",
      "(978839788785565696, 114446939)\n",
      "(978839788785565696, 14749606)\n",
      "(978839788785565696, 96307859)\n",
      "(978839788785565696, 143819549)\n",
      "(978839788785565696, 137621198)\n",
      "(2305301804, 65289126)\n",
      "(2305301804, 4193581347)\n",
      "(2305301804, 1117931702)\n",
      "(2305301804, 357294577)\n",
      "(2305301804, 268270621)\n",
      "(978831705854296065, 21904217)\n",
      "(978831705854296065, 137621198)\n",
      "(978831705854296065, 15220473)\n",
      "(978831705854296065, 114446939)\n",
      "(978831705854296065, 3836540300)\n",
      "(978831705854296065, 21904217)\n",
      "(978831705854296065, 137621198)\n",
      "(978831705854296065, 15220473)\n",
      "(978831705854296065, 114446939)\n",
      "(978831705854296065, 3836540300)\n",
      "(972846190436995073, 65289126)\n",
      "(972846190436995073, 100325421)\n",
      "(972846190436995073, 624056226)\n",
      "(972846190436995073, 3355313961)\n",
      "(972846190436995073, 808413440142442497)\n",
      "(972846190436995073, 65289126)\n",
      "(972846190436995073, 100325421)\n",
      "(972846190436995073, 624056226)\n",
      "(972846190436995073, 3355313961)\n",
      "(972846190436995073, 808413440142442497)\n",
      "(978835346296397825, 1670174994)\n",
      "(978835346296397825, 80655102)\n",
      "(978835346296397825, 197493438)\n",
      "(978835346296397825, 84648798)\n",
      "(978835346296397825, 100220864)\n",
      "(978835346296397825, 1670174994)\n",
      "(978835346296397825, 80655102)\n",
      "(978835346296397825, 197493438)\n",
      "(978835346296397825, 84648798)\n",
      "(978835346296397825, 100220864)\n",
      "(978839456416436224, 925960206)\n",
      "(978839456416436224, 369011328)\n",
      "(978839456416436224, 52551600)\n",
      "(978839456416436224, 16548023)\n",
      "(978839456416436224, 19725644)\n",
      "(937393676971491328, 20536157)\n",
      "(937393676971491328, 50393960)\n",
      "(937393676971491328, 1451773004)\n",
      "(937393676971491328, 13298072)\n",
      "(937393676971491328, 34743251)\n"
     ]
    }
   ],
   "source": [
    "edge_list = []\n",
    "\n",
    "for user_id, followers in data.items():\n",
    "    for fo in range(len(followers)):\n",
    "        # clean user_id and follower id\n",
    "        us_id = str(user_id).replace(\"'\", '')\n",
    "        fo_id = str(data.get(user_id)[fo]).replace(\"'\", '')\n",
    "        edge_list.append((int(us_id), int(fo_id)))\n",
    "\n",
    "for x in range(len(edge_list)):\n",
    "    print(edge_list[x])"
   ]
  },
  {
   "cell_type": "markdown",
   "metadata": {},
   "source": [
    "--------------------------------------------------------------------------------------------------------------------------------"
   ]
  },
  {
   "cell_type": "markdown",
   "metadata": {},
   "source": [
    "### • Choose a method of community detection and apply it to that graph\n",
    "#### Solution:"
   ]
  },
  {
   "cell_type": "code",
   "execution_count": 23,
   "metadata": {},
   "outputs": [],
   "source": [
    "import networkx as nx\n",
    "import numpy as np\n",
    "import community\n",
    "import matplotlib.pyplot as plt\n",
    "import networkx as nx\n",
    "import functools\n",
    "from operator import mul"
   ]
  },
  {
   "cell_type": "code",
   "execution_count": 24,
   "metadata": {},
   "outputs": [],
   "source": [
    "G = nx.Graph()\n",
    "G.add_nodes_from(node_list)\n",
    "G.add_edges_from(edge_list)"
   ]
  },
  {
   "cell_type": "markdown",
   "metadata": {},
   "source": [
    "Finds Communities with respect to Max Modularity, using Louvain's Algorithm:"
   ]
  },
  {
   "cell_type": "code",
   "execution_count": 25,
   "metadata": {
    "scrolled": true
   },
   "outputs": [],
   "source": [
    "# Computes the partition of the graph nodes which maximises the modularity using the Louvain heuristics algorithm. \n",
    "# This is the partition of highest modularity.\n",
    "part = community.best_partition(G)\n",
    "\n",
    "# Computes the modularity of a partition of a graph\n",
    "mod = community.modularity(part,G)"
   ]
  },
  {
   "cell_type": "markdown",
   "metadata": {},
   "source": [
    "--------------------------------------------------------------------------------------------------------------------------------"
   ]
  },
  {
   "cell_type": "markdown",
   "metadata": {},
   "source": [
    "### • Produce a visual display of your graph such that nodes belonging to different communities are differently colored\n",
    "#### Solution:"
   ]
  },
  {
   "cell_type": "code",
   "execution_count": 26,
   "metadata": {
    "scrolled": false
   },
   "outputs": [
    {
     "data": {
      "image/png": "[encoded data removed]",
      "text/plain": [
       "<Figure size 432x288 with 1 Axes>"
      ]
     },
     "metadata": {},
     "output_type": "display_data"
    },
    {
     "name": "stdout",
     "output_type": "stream",
     "text": [
      "The Modularity of the Community Partitioning is:  0.819765625\n"
     ]
    }
   ],
   "source": [
    "# Plot, color nodes using community structure\n",
    "values = [part.get(node) for node in G.nodes()]\n",
    "nx.draw_spring(G, cmap=plt.cm.RdYlBu, node_size=50, node_color = values, font_size=12, with_labels=False, font_family='sans-serif')\n",
    "\n",
    "#nx.draw_spring(G, cmap = plt.get_cmap('jet'), node_color = values, node_size=30, with_labels=False)\n",
    "\n",
    "#pos = nx.spring_layout(G)  # compute graph layout\n",
    "#nx.draw_networkx_nodes(G, pos, node_size=30, cmap=plt.cm.RdYlBu, node_color=values)\n",
    "#nx.draw_networkx_edges(G, pos,edgelist=edge_list, alpha=0.3)\n",
    "\n",
    "plt.show()\n",
    "\n",
    "print('The Modularity of the Community Partitioning is: ', community.modularity(part,G))"
   ]
  },
  {
   "cell_type": "markdown",
   "metadata": {},
   "source": [
    "--------------------------------------------------------------------------------------------------------------------------------"
   ]
  }
 ],
 "metadata": {
  "kernelspec": {
   "display_name": "Python 3",
   "language": "python",
   "name": "python3"
  },
  "language_info": {
   "codemirror_mode": {
    "name": "ipython",
    "version": 3
   },
   "file_extension": ".py",
   "mimetype": "text/x-python",
   "name": "python",
   "nbconvert_exporter": "python",
   "pygments_lexer": "ipython3",
   "version": "3.6.4"
  }
 },
 "nbformat": 4,
 "nbformat_minor": 2
}
